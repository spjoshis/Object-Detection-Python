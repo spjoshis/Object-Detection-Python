{
 "cells": [
  {
   "cell_type": "markdown",
   "metadata": {},
   "source": [
    "# 1. Package Installation"
   ]
  },
  {
   "cell_type": "code",
   "execution_count": 1,
   "metadata": {},
   "outputs": [],
   "source": [
    "# Import dependencies\n",
    "import os\n",
    "import cv2\n",
    "import time\n",
    "import uuid"
   ]
  },
  {
   "cell_type": "markdown",
   "metadata": {},
   "source": [
    "# 2. Setup file paths and define constants"
   ]
  },
  {
   "cell_type": "code",
   "execution_count": 3,
   "metadata": {},
   "outputs": [],
   "source": [
    "labels = ['thumbsup', 'thumbsdown']\n",
    "number_imgs = 5"
   ]
  },
  {
   "cell_type": "code",
   "execution_count": 5,
   "metadata": {},
   "outputs": [],
   "source": [
    "# Setup directory structure\n",
    "\n",
    "IMAGES_PATH = os.path.join('src', 'workspace', 'images', 'collection')\n",
    "if not os.path.exists(IMAGES_PATH):\n",
    "    if os.name == 'posix':\n",
    "        !mkdir -p {IMAGES_PATH}\n",
    "    if os.name == 'nt':\n",
    "         !mkdir {IMAGES_PATH}\n",
    "for label in labels:\n",
    "    path = os.path.join(IMAGES_PATH, label)\n",
    "    if not os.path.exists(path):\n",
    "        !mkdir {path}"
   ]
  },
  {
   "cell_type": "markdown",
   "metadata": {},
   "source": [
    "# 3. Collect images for training"
   ]
  },
  {
   "cell_type": "code",
   "execution_count": 8,
   "metadata": {},
   "outputs": [
    {
     "name": "stdout",
     "output_type": "stream",
     "text": [
      "Collecting images for thumbsup\n",
      "Collecting image 0\n",
      "Collecting image 1\n",
      "Collecting image 2\n",
      "Collecting image 3\n",
      "Collecting image 4\n",
      "Collecting images for thumbsdown\n",
      "Collecting image 0\n",
      "Collecting image 1\n",
      "Collecting image 2\n",
      "Collecting image 3\n",
      "Collecting image 4\n"
     ]
    }
   ],
   "source": [
    "# Collect images\n",
    "for label in labels:\n",
    "    cap = cv2.VideoCapture(0)\n",
    "    if cap.isOpened():\n",
    "        print('Collecting images for {}'.format(label))\n",
    "        time.sleep(5)\n",
    "        for imgnum in range(number_imgs):\n",
    "            print('Collecting image {}'.format(imgnum))\n",
    "            ret, frame = cap.read()\n",
    "            imgname = os.path.join(IMAGES_PATH,label,label+'.'+'{}.jpg'.format(str(uuid.uuid1())))\n",
    "            cv2.imwrite(imgname, frame)\n",
    "            cv2.imshow('frame', frame)\n",
    "            time.sleep(2)\n",
    "\n",
    "            if cv2.waitKey(1) & 0xFF == ord('q'):\n",
    "                break\n",
    "cap.release()\n",
    "cv2.destroyAllWindows()"
   ]
  },
  {
   "cell_type": "markdown",
   "metadata": {},
   "source": [
    "# 4. Setup and run image labeling tool"
   ]
  },
  {
   "cell_type": "code",
   "execution_count": 9,
   "metadata": {},
   "outputs": [
    {
     "name": "stderr",
     "output_type": "stream",
     "text": [
      "Cloning into 'src\\labeling'...\n"
     ]
    }
   ],
   "source": [
    "LABELIMG_PATH = os.path.join('src', 'labeling')\n",
    "if not os.path.exists(LABELIMG_PATH):\n",
    "    !mkdir {LABELIMG_PATH}\n",
    "    !git clone https://github.com/tzutalin/labelImg {LABELIMG_PATH}"
   ]
  },
  {
   "cell_type": "code",
   "execution_count": 10,
   "metadata": {},
   "outputs": [],
   "source": [
    "if os.name == 'posix':\n",
    "    !make qt5py3\n",
    "if os.name =='nt':\n",
    "    !cd {LABELIMG_PATH} && pyrcc5 -o libs/resources.py resources.qrc\n"
   ]
  },
  {
   "cell_type": "code",
   "execution_count": 11,
   "metadata": {},
   "outputs": [
    {
     "name": "stdout",
     "output_type": "stream",
     "text": [
      "Cancel creation."
     ]
    },
    {
     "name": "stderr",
     "output_type": "stream",
     "text": [
      "labelImg.py:965: DeprecationWarning: an integer is required (got type float).  Implicit conversion to integers using __int__ is deprecated, and may be removed in a future version of Python.\n",
      "  bar.setValue(bar.value() + bar.singleStep() * units)\n"
     ]
    },
    {
     "name": "stdout",
     "output_type": "stream",
     "text": [
      "\n",
      "Image:E:\\Python\\machine-learning\\Object-Detection-Python\\src\\workspace\\images\\collection\\thumbsdown\\thumbsdown.6f795ccd-4703-11ec-ac78-9c5a440a07a5.jpg -> Annotation:E:/Python/machine-learning/Object-Detection-Python/src/workspace/images/collection/thumbsdown/thumbsdown.6f795ccd-4703-11ec-ac78-9c5a440a07a5.xml\n",
      "Cancel creation.\n",
      "Image:E:\\Python\\machine-learning\\Object-Detection-Python\\src\\workspace\\images\\collection\\thumbsdown\\thumbsdown.70b62f62-4703-11ec-927d-9c5a440a07a5.jpg -> Annotation:E:/Python/machine-learning/Object-Detection-Python/src/workspace/images/collection/thumbsdown/thumbsdown.70b62f62-4703-11ec-927d-9c5a440a07a5.xml\n",
      "Cancel creation.\n",
      "Image:E:\\Python\\machine-learning\\Object-Detection-Python\\src\\workspace\\images\\collection\\thumbsdown\\thumbsdown.71eecaa1-4703-11ec-8270-9c5a440a07a5.jpg -> Annotation:E:/Python/machine-learning/Object-Detection-Python/src/workspace/images/collection/thumbsdown/thumbsdown.71eecaa1-4703-11ec-8270-9c5a440a07a5.xml\n",
      "Cancel creation.\n",
      "Cancel creation.\n",
      "Image:E:\\Python\\machine-learning\\Object-Detection-Python\\src\\workspace\\images\\collection\\thumbsdown\\thumbsdown.7327e757-4703-11ec-a06e-9c5a440a07a5.jpg -> Annotation:E:/Python/machine-learning/Object-Detection-Python/src/workspace/images/collection/thumbsdown/thumbsdown.7327e757-4703-11ec-a06e-9c5a440a07a5.xml\n",
      "Image:E:\\Python\\machine-learning\\Object-Detection-Python\\src\\workspace\\images\\collection\\thumbsdown\\thumbsdown.a7e33331-4703-11ec-bf18-9c5a440a07a5.jpg -> Annotation:E:/Python/machine-learning/Object-Detection-Python/src/workspace/images/collection/thumbsdown/thumbsdown.a7e33331-4703-11ec-bf18-9c5a440a07a5.xml\n",
      "Cancel creation.\n",
      "Cancel creation.\n",
      "Image:E:\\Python\\machine-learning\\Object-Detection-Python\\src\\workspace\\images\\collection\\thumbsup\\thumbsup.9b267dc7-4703-11ec-a9a8-9c5a440a07a5.jpg -> Annotation:E:/Python/machine-learning/Object-Detection-Python/src/workspace/images/collection/thumbsup/thumbsup.9b267dc7-4703-11ec-a9a8-9c5a440a07a5.xml\n",
      "Image:E:\\Python\\machine-learning\\Object-Detection-Python\\src\\workspace\\images\\collection\\thumbsup\\thumbsup.9c5f6d9c-4703-11ec-a406-9c5a440a07a5.jpg -> Annotation:E:/Python/machine-learning/Object-Detection-Python/src/workspace/images/collection/thumbsup/thumbsup.9c5f6d9c-4703-11ec-a406-9c5a440a07a5.xml\n",
      "Image:E:\\Python\\machine-learning\\Object-Detection-Python\\src\\workspace\\images\\collection\\thumbsup\\thumbsup.9ed2711f-4703-11ec-ade0-9c5a440a07a5.jpg -> Annotation:E:/Python/machine-learning/Object-Detection-Python/src/workspace/images/collection/thumbsup/thumbsup.9ed2711f-4703-11ec-ade0-9c5a440a07a5.xml\n",
      "Image:E:\\Python\\machine-learning\\Object-Detection-Python\\src\\workspace\\images\\collection\\thumbsup\\thumbsup.67a468f6-4703-11ec-84ca-9c5a440a07a5.jpg -> Annotation:E:/Python/machine-learning/Object-Detection-Python/src/workspace/images/collection/thumbsup/thumbsup.67a468f6-4703-11ec-84ca-9c5a440a07a5.xml\n",
      "Image:E:\\Python\\machine-learning\\Object-Detection-Python\\src\\workspace\\images\\collection\\thumbsup\\thumbsup.68da1109-4703-11ec-b449-9c5a440a07a5.jpg -> Annotation:E:/Python/machine-learning/Object-Detection-Python/src/workspace/images/collection/thumbsup/thumbsup.68da1109-4703-11ec-b449-9c5a440a07a5.xml\n",
      "Image:E:\\Python\\machine-learning\\Object-Detection-Python\\src\\workspace\\images\\collection\\thumbsup\\thumbsup.99e80a29-4703-11ec-81be-9c5a440a07a5.jpg -> Annotation:E:/Python/machine-learning/Object-Detection-Python/src/workspace/images/collection/thumbsup/thumbsup.99e80a29-4703-11ec-81be-9c5a440a07a5.xml\n"
     ]
    }
   ],
   "source": [
    "!cd {LABELIMG_PATH} && python labelImg.py"
   ]
  }
 ],
 "metadata": {
  "kernelspec": {
   "display_name": "odp",
   "language": "python",
   "name": "odp"
  },
  "language_info": {
   "codemirror_mode": {
    "name": "ipython",
    "version": 3
   },
   "file_extension": ".py",
   "mimetype": "text/x-python",
   "name": "python",
   "nbconvert_exporter": "python",
   "pygments_lexer": "ipython3",
   "version": "3.8.1"
  }
 },
 "nbformat": 4,
 "nbformat_minor": 5
}
