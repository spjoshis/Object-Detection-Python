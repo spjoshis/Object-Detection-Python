{
 "cells": [
  {
   "cell_type": "code",
   "execution_count": 4,
   "metadata": {},
   "outputs": [],
   "source": [
    "import os"
   ]
  },
  {
   "cell_type": "code",
   "execution_count": 2,
   "metadata": {},
   "outputs": [],
   "source": [
    "CUSTOM_MODEL_NAME = 'hand_sign' \n",
    "PRETRAINED_MODEL_NAME = 'ssd_mobilenet_v2_fpnlite_320x320_coco17_tpu-8'\n",
    "PRETRAINED_MODEL_URL = 'http://download.tensorflow.org/models/object_detection/tf2/20200711/ssd_mobilenet_v2_fpnlite_320x320_coco17_tpu-8.tar.gz'\n",
    "TF_RECORD_SCRIPT_NAME = 'generate_tfrecord.py'\n",
    "LABEL_MAP_NAME = 'label_map.pbtxt'\n"
   ]
  },
  {
   "cell_type": "code",
   "execution_count": 6,
   "metadata": {},
   "outputs": [],
   "source": [
    "paths = {\n",
    "    'WORKSPACE_PATH': os.path.join('src', 'workspace'),\n",
    "    'SCRIPTS_PATH': os.path.join('src','scripts'),\n",
    "    'APIMODEL_PATH': os.path.join('src','models'),\n",
    "    'ANNOTATION_PATH': os.path.join('src', 'workspace','annotations'),\n",
    "    'IMAGE_PATH': os.path.join('src', 'workspace','images'),\n",
    "    'MODEL_PATH': os.path.join('src', 'workspace','models'),\n",
    "    'PRETRAINED_MODEL_PATH': os.path.join('src', 'workspace','pre-trained-models'),\n",
    "    'CHECKPOINT_PATH': os.path.join('src', 'workspace','models',CUSTOM_MODEL_NAME), \n",
    "    'OUTPUT_PATH': os.path.join('src', 'workspace','models',CUSTOM_MODEL_NAME, 'export'), \n",
    "    'TFJS_PATH':os.path.join('src', 'workspace','models',CUSTOM_MODEL_NAME, 'tfjsexport'), \n",
    "    'TFLITE_PATH':os.path.join('src', 'workspace','models',CUSTOM_MODEL_NAME, 'tfliteexport'), \n",
    "    'PROTOC_PATH':os.path.join('src','protoc')\n",
    " }\n"
   ]
  },
  {
   "cell_type": "code",
   "execution_count": 8,
   "metadata": {},
   "outputs": [],
   "source": [
    "files = {\n",
    "    'PIPELINE_CONFIG':os.path.join('src', 'workspace','models', CUSTOM_MODEL_NAME, 'pipeline.config'),\n",
    "    'TF_RECORD_SCRIPT': os.path.join(paths['SCRIPTS_PATH'], TF_RECORD_SCRIPT_NAME), \n",
    "    'LABELMAP': os.path.join(paths['ANNOTATION_PATH'], LABEL_MAP_NAME)\n",
    "}\n"
   ]
  },
  {
   "cell_type": "code",
   "execution_count": 9,
   "metadata": {},
   "outputs": [],
   "source": [
    "for path in paths.values():\n",
    "    if not os.path.exists(path):\n",
    "        if os.name == 'posix':\n",
    "            !mkdir -p {path}\n",
    "        if os.name == 'nt':\n",
    "            !mkdir {path}\n"
   ]
  },
  {
   "cell_type": "markdown",
   "metadata": {},
   "source": [
    "# Setup Model"
   ]
  },
  {
   "cell_type": "code",
   "execution_count": 10,
   "metadata": {},
   "outputs": [
    {
     "name": "stdout",
     "output_type": "stream",
     "text": [
      "Collecting wget\n",
      "  Downloading wget-3.2.zip (10 kB)\n",
      "Building wheels for collected packages: wget\n",
      "  Building wheel for wget (setup.py): started\n",
      "  Building wheel for wget (setup.py): finished with status 'done'\n",
      "  Created wheel for wget: filename=wget-3.2-py3-none-any.whl size=9686 sha256=5dc73d07d0260e46b8f742602e7c10f4326b34d32a1a0c7f7e7dd4162663c9c4\n",
      "  Stored in directory: c:\\users\\gopal\\appdata\\local\\pip\\cache\\wheels\\bd\\a8\\c3\\3cf2c14a1837a4e04bd98631724e81f33f462d86a1d895fae0\n",
      "Successfully built wget\n",
      "Installing collected packages: wget\n",
      "Successfully installed wget-3.2\n"
     ]
    },
    {
     "name": "stderr",
     "output_type": "stream",
     "text": [
      "WARNING: You are using pip version 20.1.1; however, version 21.3.1 is available.\n",
      "You should consider upgrading via the 'e:\\python\\machine-learning\\object-detection-python\\odp\\scripts\\python.exe -m pip install --upgrade pip' command.\n"
     ]
    }
   ],
   "source": [
    "if os.name=='nt':\n",
    "    !pip install wget\n",
    "    import wget\n"
   ]
  },
  {
   "cell_type": "code",
   "execution_count": 11,
   "metadata": {},
   "outputs": [
    {
     "name": "stderr",
     "output_type": "stream",
     "text": [
      "Cloning into 'src\\models'...\n",
      "Checking out files:  72% (2045/2821)\n",
      "Checking out files:  73% (2060/2821)\n",
      "Checking out files:  74% (2088/2821)\n",
      "Checking out files:  75% (2116/2821)\n",
      "Checking out files:  76% (2144/2821)\n",
      "Checking out files:  77% (2173/2821)\n",
      "Checking out files:  78% (2201/2821)\n",
      "Checking out files:  79% (2229/2821)\n",
      "Checking out files:  80% (2257/2821)\n",
      "Checking out files:  81% (2286/2821)\n",
      "Checking out files:  82% (2314/2821)\n",
      "Checking out files:  83% (2342/2821)\n",
      "Checking out files:  84% (2370/2821)\n",
      "Checking out files:  85% (2398/2821)\n",
      "Checking out files:  86% (2427/2821)\n",
      "Checking out files:  87% (2455/2821)\n",
      "Checking out files:  88% (2483/2821)\n",
      "Checking out files:  89% (2511/2821)\n",
      "Checking out files:  90% (2539/2821)\n",
      "Checking out files:  91% (2568/2821)\n",
      "Checking out files:  92% (2596/2821)\n",
      "Checking out files:  93% (2624/2821)\n",
      "Checking out files:  94% (2652/2821)\n",
      "Checking out files:  95% (2680/2821)\n",
      "Checking out files:  96% (2709/2821)\n",
      "Checking out files:  97% (2737/2821)\n",
      "Checking out files:  98% (2765/2821)\n",
      "Checking out files:  99% (2793/2821)\n",
      "Checking out files: 100% (2821/2821)\n",
      "Checking out files: 100% (2821/2821), done.\n"
     ]
    }
   ],
   "source": [
    "if not os.path.exists(os.path.join(paths['APIMODEL_PATH'], 'research', 'object_detection')):\n",
    "    !git clone https://github.com/tensorflow/models {paths['APIMODEL_PATH']}\n"
   ]
  },
  {
   "cell_type": "code",
   "execution_count": 12,
   "metadata": {
    "scrolled": true
   },
   "outputs": [
    {
     "name": "stdout",
     "output_type": "stream",
     "text": [
      "100% [..........................................................................] 1468733 / 1468733        1 file(s) moved.\n"
     ]
    },
    {
     "name": "stderr",
     "output_type": "stream",
     "text": [
      "The system cannot find the path specified.\n",
      "The system cannot find the path specified.\n"
     ]
    }
   ],
   "source": [
    "# Install Tensorflow Object Detection \n",
    "if os.name=='posix':  \n",
    "    !apt-get install protobuf-compiler\n",
    "    !cd Tensorflow/models/research && protoc object_detection/protos/*.proto --python_out=. && cp object_detection/packages/tf2/setup.py . && python -m pip install . \n",
    "    \n",
    "if os.name=='nt':\n",
    "    url=\"https://github.com/protocolbuffers/protobuf/releases/download/v3.15.6/protoc-3.15.6-win64.zip\"\n",
    "    wget.download(url)\n",
    "    !move protoc-3.15.6-win64.zip {paths['PROTOC_PATH']}\n",
    "    !cd {paths['PROTOC_PATH']} && tar -xf protoc-3.15.6-win64.zip\n",
    "    os.environ['PATH'] += os.pathsep + os.path.abspath(os.path.join(paths['PROTOC_PATH'], 'bin'))   \n",
    "    !cd Tensorflow/models/research && protoc object_detection/protos/*.proto --python_out=. && copy object_detection\\\\packages\\\\tf2\\\\setup.py setup.py && python setup.py build && python setup.py install\n",
    "    !cd Tensorflow/models/research/slim && pip install -e . \n"
   ]
  },
  {
   "cell_type": "code",
   "execution_count": 14,
   "metadata": {},
   "outputs": [
    {
     "name": "stdout",
     "output_type": "stream",
     "text": [
      "Collecting object-detection\n",
      "  Downloading object_detection-0.0.3-py3-none-any.whl (1.5 MB)\n",
      "Collecting Cython\n",
      "  Downloading Cython-0.29.24-cp38-cp38-win_amd64.whl (1.7 MB)\n",
      "Requirement already satisfied: matplotlib in c:\\users\\gopal\\appdata\\local\\programs\\python\\python38\\lib\\site-packages (from object-detection) (3.3.2)\n",
      "Requirement already satisfied: tensorflow in c:\\users\\gopal\\appdata\\local\\programs\\python\\python38\\lib\\site-packages (from object-detection) (2.6.0)\n",
      "Collecting contextlib2\n",
      "  Downloading contextlib2-21.6.0-py2.py3-none-any.whl (13 kB)\n",
      "Requirement already satisfied: pillow in c:\\users\\gopal\\appdata\\local\\programs\\python\\python38\\lib\\site-packages (from object-detection) (8.0.1)\n",
      "Requirement already satisfied: lxml in c:\\users\\gopal\\appdata\\local\\programs\\python\\python38\\lib\\site-packages (from object-detection) (4.6.3)\n",
      "Requirement already satisfied: jupyter in c:\\users\\gopal\\appdata\\local\\programs\\python\\python38\\lib\\site-packages (from object-detection) (1.0.0)\n",
      "Requirement already satisfied: kiwisolver>=1.0.1 in c:\\users\\gopal\\appdata\\local\\programs\\python\\python38\\lib\\site-packages (from matplotlib->object-detection) (1.3.1)\n",
      "Requirement already satisfied: cycler>=0.10 in c:\\users\\gopal\\appdata\\local\\programs\\python\\python38\\lib\\site-packages (from matplotlib->object-detection) (0.10.0)\n",
      "Requirement already satisfied: pyparsing!=2.0.4,!=2.1.2,!=2.1.6,>=2.0.3 in c:\\users\\gopal\\appdata\\local\\programs\\python\\python38\\lib\\site-packages (from matplotlib->object-detection) (2.4.7)\n",
      "Requirement already satisfied: certifi>=2020.06.20 in c:\\users\\gopal\\appdata\\local\\programs\\python\\python38\\lib\\site-packages (from matplotlib->object-detection) (2020.6.20)\n",
      "Requirement already satisfied: python-dateutil>=2.1 in c:\\users\\gopal\\appdata\\local\\programs\\python\\python38\\lib\\site-packages (from matplotlib->object-detection) (2.8.1)\n",
      "Requirement already satisfied: numpy>=1.15 in c:\\users\\gopal\\appdata\\local\\programs\\python\\python38\\lib\\site-packages (from matplotlib->object-detection) (1.19.2)\n",
      "Requirement already satisfied: wheel~=0.35 in c:\\users\\gopal\\appdata\\local\\programs\\python\\python38\\lib\\site-packages (from tensorflow->object-detection) (0.35.1)\n",
      "Requirement already satisfied: gast==0.4.0 in c:\\users\\gopal\\appdata\\local\\programs\\python\\python38\\lib\\site-packages (from tensorflow->object-detection) (0.4.0)\n",
      "Requirement already satisfied: absl-py~=0.10 in c:\\users\\gopal\\appdata\\local\\programs\\python\\python38\\lib\\site-packages (from tensorflow->object-detection) (0.14.1)\n",
      "Requirement already satisfied: opt-einsum~=3.3.0 in c:\\users\\gopal\\appdata\\local\\programs\\python\\python38\\lib\\site-packages (from tensorflow->object-detection) (3.3.0)\n",
      "Requirement already satisfied: keras-preprocessing~=1.1.2 in c:\\users\\gopal\\appdata\\local\\programs\\python\\python38\\lib\\site-packages (from tensorflow->object-detection) (1.1.2)\n",
      "Requirement already satisfied: astunparse~=1.6.3 in c:\\users\\gopal\\appdata\\local\\programs\\python\\python38\\lib\\site-packages (from tensorflow->object-detection) (1.6.3)\n",
      "Requirement already satisfied: flatbuffers~=1.12.0 in c:\\users\\gopal\\appdata\\local\\programs\\python\\python38\\lib\\site-packages (from tensorflow->object-detection) (1.12)\n",
      "Requirement already satisfied: tensorboard~=2.6 in c:\\users\\gopal\\appdata\\local\\programs\\python\\python38\\lib\\site-packages (from tensorflow->object-detection) (2.6.0)\n",
      "Collecting six~=1.15.0\n",
      "  Using cached six-1.15.0-py2.py3-none-any.whl (10 kB)\n",
      "Requirement already satisfied: typing-extensions~=3.7.4 in c:\\users\\gopal\\appdata\\local\\programs\\python\\python38\\lib\\site-packages (from tensorflow->object-detection) (3.7.4.3)\n",
      "Requirement already satisfied: clang~=5.0 in c:\\users\\gopal\\appdata\\local\\programs\\python\\python38\\lib\\site-packages (from tensorflow->object-detection) (5.0)\n",
      "Requirement already satisfied: protobuf>=3.9.2 in c:\\users\\gopal\\appdata\\local\\programs\\python\\python38\\lib\\site-packages (from tensorflow->object-detection) (3.18.0)\n",
      "Requirement already satisfied: h5py~=3.1.0 in c:\\users\\gopal\\appdata\\local\\programs\\python\\python38\\lib\\site-packages (from tensorflow->object-detection) (3.1.0)\n",
      "Requirement already satisfied: grpcio<2.0,>=1.37.0 in c:\\users\\gopal\\appdata\\local\\programs\\python\\python38\\lib\\site-packages (from tensorflow->object-detection) (1.41.0)\n",
      "Requirement already satisfied: keras~=2.6 in c:\\users\\gopal\\appdata\\local\\programs\\python\\python38\\lib\\site-packages (from tensorflow->object-detection) (2.6.0)\n",
      "Requirement already satisfied: google-pasta~=0.2 in c:\\users\\gopal\\appdata\\local\\programs\\python\\python38\\lib\\site-packages (from tensorflow->object-detection) (0.2.0)\n",
      "Requirement already satisfied: termcolor~=1.1.0 in c:\\users\\gopal\\appdata\\local\\programs\\python\\python38\\lib\\site-packages (from tensorflow->object-detection) (1.1.0)\n",
      "Collecting wrapt~=1.12.1\n",
      "  Using cached wrapt-1.12.1.tar.gz (27 kB)\n",
      "Requirement already satisfied: tensorflow-estimator~=2.6 in c:\\users\\gopal\\appdata\\local\\programs\\python\\python38\\lib\\site-packages (from tensorflow->object-detection) (2.6.0)\n",
      "Requirement already satisfied: qtconsole in c:\\users\\gopal\\appdata\\local\\programs\\python\\python38\\lib\\site-packages (from jupyter->object-detection) (4.7.7)\n",
      "Requirement already satisfied: nbconvert in c:\\users\\gopal\\appdata\\local\\programs\\python\\python38\\lib\\site-packages (from jupyter->object-detection) (6.0.7)\n",
      "Requirement already satisfied: notebook in c:\\users\\gopal\\appdata\\local\\programs\\python\\python38\\lib\\site-packages (from jupyter->object-detection) (6.1.4)\n",
      "Requirement already satisfied: jupyter-console in c:\\users\\gopal\\appdata\\local\\programs\\python\\python38\\lib\\site-packages (from jupyter->object-detection) (6.2.0)\n",
      "Requirement already satisfied: ipywidgets in c:\\users\\gopal\\appdata\\local\\programs\\python\\python38\\lib\\site-packages (from jupyter->object-detection) (7.5.1)\n",
      "Requirement already satisfied: ipykernel in c:\\users\\gopal\\appdata\\local\\programs\\python\\python38\\lib\\site-packages (from jupyter->object-detection) (5.3.4)\n",
      "Requirement already satisfied: google-auth<2,>=1.6.3 in c:\\users\\gopal\\appdata\\local\\programs\\python\\python38\\lib\\site-packages (from tensorboard~=2.6->tensorflow->object-detection) (1.35.0)\n",
      "Requirement already satisfied: tensorboard-data-server<0.7.0,>=0.6.0 in c:\\users\\gopal\\appdata\\local\\programs\\python\\python38\\lib\\site-packages (from tensorboard~=2.6->tensorflow->object-detection) (0.6.1)\n",
      "Requirement already satisfied: setuptools>=41.0.0 in c:\\users\\gopal\\appdata\\local\\programs\\python\\python38\\lib\\site-packages (from tensorboard~=2.6->tensorflow->object-detection) (41.2.0)\n",
      "Requirement already satisfied: werkzeug>=0.11.15 in c:\\users\\gopal\\appdata\\local\\programs\\python\\python38\\lib\\site-packages (from tensorboard~=2.6->tensorflow->object-detection) (2.0.1)\n",
      "Requirement already satisfied: markdown>=2.6.8 in c:\\users\\gopal\\appdata\\local\\programs\\python\\python38\\lib\\site-packages (from tensorboard~=2.6->tensorflow->object-detection) (3.3.4)\n",
      "Requirement already satisfied: tensorboard-plugin-wit>=1.6.0 in c:\\users\\gopal\\appdata\\local\\programs\\python\\python38\\lib\\site-packages (from tensorboard~=2.6->tensorflow->object-detection) (1.8.0)\n",
      "Requirement already satisfied: requests<3,>=2.21.0 in c:\\users\\gopal\\appdata\\local\\programs\\python\\python38\\lib\\site-packages (from tensorboard~=2.6->tensorflow->object-detection) (2.26.0)\n",
      "Requirement already satisfied: google-auth-oauthlib<0.5,>=0.4.1 in c:\\users\\gopal\\appdata\\local\\programs\\python\\python38\\lib\\site-packages (from tensorboard~=2.6->tensorflow->object-detection) (0.4.6)\n",
      "Requirement already satisfied: pyzmq>=17.1 in c:\\users\\gopal\\appdata\\local\\programs\\python\\python38\\lib\\site-packages (from qtconsole->jupyter->object-detection) (19.0.2)\n",
      "Requirement already satisfied: ipython-genutils in c:\\users\\gopal\\appdata\\local\\programs\\python\\python38\\lib\\site-packages (from qtconsole->jupyter->object-detection) (0.2.0)\n",
      "Requirement already satisfied: pygments in c:\\users\\gopal\\appdata\\local\\programs\\python\\python38\\lib\\site-packages (from qtconsole->jupyter->object-detection) (2.7.2)\n",
      "Requirement already satisfied: jupyter-client>=4.1 in c:\\users\\gopal\\appdata\\local\\programs\\python\\python38\\lib\\site-packages (from qtconsole->jupyter->object-detection) (6.1.7)\n",
      "Requirement already satisfied: traitlets in c:\\users\\gopal\\appdata\\local\\programs\\python\\python38\\lib\\site-packages (from qtconsole->jupyter->object-detection) (5.0.5)\n",
      "Requirement already satisfied: jupyter-core in c:\\users\\gopal\\appdata\\local\\programs\\python\\python38\\lib\\site-packages (from qtconsole->jupyter->object-detection) (4.6.3)\n",
      "Requirement already satisfied: qtpy in c:\\users\\gopal\\appdata\\local\\programs\\python\\python38\\lib\\site-packages (from qtconsole->jupyter->object-detection) (1.9.0)\n",
      "Requirement already satisfied: defusedxml in c:\\users\\gopal\\appdata\\local\\programs\\python\\python38\\lib\\site-packages (from nbconvert->jupyter->object-detection) (0.6.0)\n",
      "Requirement already satisfied: bleach in c:\\users\\gopal\\appdata\\local\\programs\\python\\python38\\lib\\site-packages (from nbconvert->jupyter->object-detection) (3.2.1)\n",
      "Requirement already satisfied: nbformat>=4.4 in c:\\users\\gopal\\appdata\\local\\programs\\python\\python38\\lib\\site-packages (from nbconvert->jupyter->object-detection) (5.0.8)\n",
      "Requirement already satisfied: testpath in c:\\users\\gopal\\appdata\\local\\programs\\python\\python38\\lib\\site-packages (from nbconvert->jupyter->object-detection) (0.4.4)\n",
      "Requirement already satisfied: mistune<2,>=0.8.1 in c:\\users\\gopal\\appdata\\local\\programs\\python\\python38\\lib\\site-packages (from nbconvert->jupyter->object-detection) (0.8.4)\n",
      "Requirement already satisfied: jupyterlab-pygments in c:\\users\\gopal\\appdata\\local\\programs\\python\\python38\\lib\\site-packages (from nbconvert->jupyter->object-detection) (0.1.2)\n",
      "Requirement already satisfied: entrypoints>=0.2.2 in c:\\users\\gopal\\appdata\\local\\programs\\python\\python38\\lib\\site-packages (from nbconvert->jupyter->object-detection) (0.3)\n",
      "Requirement already satisfied: nbclient<0.6.0,>=0.5.0 in c:\\users\\gopal\\appdata\\local\\programs\\python\\python38\\lib\\site-packages (from nbconvert->jupyter->object-detection) (0.5.1)\n",
      "Requirement already satisfied: pandocfilters>=1.4.1 in c:\\users\\gopal\\appdata\\local\\programs\\python\\python38\\lib\\site-packages (from nbconvert->jupyter->object-detection) (1.4.3)\n",
      "Requirement already satisfied: jinja2>=2.4 in c:\\users\\gopal\\appdata\\local\\programs\\python\\python38\\lib\\site-packages (from nbconvert->jupyter->object-detection) (2.11.2)\n",
      "Requirement already satisfied: argon2-cffi in c:\\users\\gopal\\appdata\\local\\programs\\python\\python38\\lib\\site-packages (from notebook->jupyter->object-detection) (20.1.0)\n",
      "Requirement already satisfied: Send2Trash in c:\\users\\gopal\\appdata\\local\\programs\\python\\python38\\lib\\site-packages (from notebook->jupyter->object-detection) (1.5.0)\n",
      "Requirement already satisfied: prometheus-client in c:\\users\\gopal\\appdata\\local\\programs\\python\\python38\\lib\\site-packages (from notebook->jupyter->object-detection) (0.8.0)\n",
      "Requirement already satisfied: tornado>=5.0 in c:\\users\\gopal\\appdata\\local\\programs\\python\\python38\\lib\\site-packages (from notebook->jupyter->object-detection) (6.0.4)\n",
      "Requirement already satisfied: terminado>=0.8.3 in c:\\users\\gopal\\appdata\\local\\programs\\python\\python38\\lib\\site-packages (from notebook->jupyter->object-detection) (0.9.1)\n",
      "Requirement already satisfied: prompt-toolkit!=3.0.0,!=3.0.1,<3.1.0,>=2.0.0 in c:\\users\\gopal\\appdata\\local\\programs\\python\\python38\\lib\\site-packages (from jupyter-console->jupyter->object-detection) (3.0.8)\n",
      "Requirement already satisfied: ipython in c:\\users\\gopal\\appdata\\local\\programs\\python\\python38\\lib\\site-packages (from jupyter-console->jupyter->object-detection) (7.18.1)\n",
      "Requirement already satisfied: widgetsnbextension~=3.5.0 in c:\\users\\gopal\\appdata\\local\\programs\\python\\python38\\lib\\site-packages (from ipywidgets->jupyter->object-detection) (3.5.1)\n",
      "Requirement already satisfied: pyasn1-modules>=0.2.1 in c:\\users\\gopal\\appdata\\local\\programs\\python\\python38\\lib\\site-packages (from google-auth<2,>=1.6.3->tensorboard~=2.6->tensorflow->object-detection) (0.2.8)\n",
      "Requirement already satisfied: rsa<5,>=3.1.4; python_version >= \"3.6\" in c:\\users\\gopal\\appdata\\local\\programs\\python\\python38\\lib\\site-packages (from google-auth<2,>=1.6.3->tensorboard~=2.6->tensorflow->object-detection) (4.7.2)\n",
      "Requirement already satisfied: cachetools<5.0,>=2.0.0 in c:\\users\\gopal\\appdata\\local\\programs\\python\\python38\\lib\\site-packages (from google-auth<2,>=1.6.3->tensorboard~=2.6->tensorflow->object-detection) (4.2.4)\n",
      "Requirement already satisfied: urllib3<1.27,>=1.21.1 in c:\\users\\gopal\\appdata\\local\\programs\\python\\python38\\lib\\site-packages (from requests<3,>=2.21.0->tensorboard~=2.6->tensorflow->object-detection) (1.26.7)\n",
      "Requirement already satisfied: charset-normalizer~=2.0.0; python_version >= \"3\" in c:\\users\\gopal\\appdata\\local\\programs\\python\\python38\\lib\\site-packages (from requests<3,>=2.21.0->tensorboard~=2.6->tensorflow->object-detection) (2.0.6)\n",
      "Requirement already satisfied: idna<4,>=2.5; python_version >= \"3\" in c:\\users\\gopal\\appdata\\local\\programs\\python\\python38\\lib\\site-packages (from requests<3,>=2.21.0->tensorboard~=2.6->tensorflow->object-detection) (3.2)\n",
      "Requirement already satisfied: requests-oauthlib>=0.7.0 in c:\\users\\gopal\\appdata\\local\\programs\\python\\python38\\lib\\site-packages (from google-auth-oauthlib<0.5,>=0.4.1->tensorboard~=2.6->tensorflow->object-detection) (1.3.0)\n",
      "Requirement already satisfied: pywin32>=1.0; sys_platform == \"win32\" in c:\\users\\gopal\\appdata\\local\\programs\\python\\python38\\lib\\site-packages (from jupyter-core->qtconsole->jupyter->object-detection) (225)\n",
      "Requirement already satisfied: webencodings in c:\\users\\gopal\\appdata\\local\\programs\\python\\python38\\lib\\site-packages (from bleach->nbconvert->jupyter->object-detection) (0.5.1)\n",
      "Requirement already satisfied: packaging in c:\\users\\gopal\\appdata\\local\\programs\\python\\python38\\lib\\site-packages (from bleach->nbconvert->jupyter->object-detection) (20.4)\n",
      "Requirement already satisfied: jsonschema!=2.5.0,>=2.4 in c:\\users\\gopal\\appdata\\local\\programs\\python\\python38\\lib\\site-packages (from nbformat>=4.4->nbconvert->jupyter->object-detection) (3.2.0)\n",
      "Requirement already satisfied: nest-asyncio in c:\\users\\gopal\\appdata\\local\\programs\\python\\python38\\lib\\site-packages (from nbclient<0.6.0,>=0.5.0->nbconvert->jupyter->object-detection) (1.4.2)\n",
      "Requirement already satisfied: async-generator in c:\\users\\gopal\\appdata\\local\\programs\\python\\python38\\lib\\site-packages (from nbclient<0.6.0,>=0.5.0->nbconvert->jupyter->object-detection) (1.10)\n",
      "Requirement already satisfied: MarkupSafe>=0.23 in c:\\users\\gopal\\appdata\\local\\programs\\python\\python38\\lib\\site-packages (from jinja2>=2.4->nbconvert->jupyter->object-detection) (1.1.1)\n",
      "Requirement already satisfied: cffi>=1.0.0 in c:\\users\\gopal\\appdata\\local\\programs\\python\\python38\\lib\\site-packages (from argon2-cffi->notebook->jupyter->object-detection) (1.14.3)\n",
      "Requirement already satisfied: pywinpty>=0.5; os_name == \"nt\" in c:\\users\\gopal\\appdata\\local\\programs\\python\\python38\\lib\\site-packages (from terminado>=0.8.3->notebook->jupyter->object-detection) (0.5.7)\n",
      "Requirement already satisfied: wcwidth in c:\\users\\gopal\\appdata\\local\\programs\\python\\python38\\lib\\site-packages (from prompt-toolkit!=3.0.0,!=3.0.1,<3.1.0,>=2.0.0->jupyter-console->jupyter->object-detection) (0.2.5)\n",
      "Requirement already satisfied: backcall in c:\\users\\gopal\\appdata\\local\\programs\\python\\python38\\lib\\site-packages (from ipython->jupyter-console->jupyter->object-detection) (0.2.0)\n",
      "Requirement already satisfied: decorator in c:\\users\\gopal\\appdata\\local\\programs\\python\\python38\\lib\\site-packages (from ipython->jupyter-console->jupyter->object-detection) (4.4.2)\n",
      "Requirement already satisfied: jedi>=0.10 in c:\\users\\gopal\\appdata\\local\\programs\\python\\python38\\lib\\site-packages (from ipython->jupyter-console->jupyter->object-detection) (0.17.2)\n",
      "Requirement already satisfied: colorama; sys_platform == \"win32\" in e:\\python\\machine-learning\\object-detection-python\\odp\\lib\\site-packages (from ipython->jupyter-console->jupyter->object-detection) (0.4.4)\n",
      "Requirement already satisfied: pickleshare in c:\\users\\gopal\\appdata\\local\\programs\\python\\python38\\lib\\site-packages (from ipython->jupyter-console->jupyter->object-detection) (0.7.5)\n",
      "Requirement already satisfied: pyasn1<0.5.0,>=0.4.6 in c:\\users\\gopal\\appdata\\local\\programs\\python\\python38\\lib\\site-packages (from pyasn1-modules>=0.2.1->google-auth<2,>=1.6.3->tensorboard~=2.6->tensorflow->object-detection) (0.4.8)\n",
      "Requirement already satisfied: oauthlib>=3.0.0 in c:\\users\\gopal\\appdata\\local\\programs\\python\\python38\\lib\\site-packages (from requests-oauthlib>=0.7.0->google-auth-oauthlib<0.5,>=0.4.1->tensorboard~=2.6->tensorflow->object-detection) (3.1.1)\n",
      "Requirement already satisfied: attrs>=17.4.0 in c:\\users\\gopal\\appdata\\local\\programs\\python\\python38\\lib\\site-packages (from jsonschema!=2.5.0,>=2.4->nbformat>=4.4->nbconvert->jupyter->object-detection) (20.2.0)\n",
      "Requirement already satisfied: pyrsistent>=0.14.0 in c:\\users\\gopal\\appdata\\local\\programs\\python\\python38\\lib\\site-packages (from jsonschema!=2.5.0,>=2.4->nbformat>=4.4->nbconvert->jupyter->object-detection) (0.17.3)\n",
      "Requirement already satisfied: pycparser in c:\\users\\gopal\\appdata\\local\\programs\\python\\python38\\lib\\site-packages (from cffi>=1.0.0->argon2-cffi->notebook->jupyter->object-detection) (2.20)\n",
      "Requirement already satisfied: parso<0.8.0,>=0.7.0 in c:\\users\\gopal\\appdata\\local\\programs\\python\\python38\\lib\\site-packages (from jedi>=0.10->ipython->jupyter-console->jupyter->object-detection) (0.7.1)\n",
      "Building wheels for collected packages: wrapt\n",
      "  Building wheel for wrapt (setup.py): started\n",
      "  Building wheel for wrapt (setup.py): finished with status 'done'\n",
      "  Created wheel for wrapt: filename=wrapt-1.12.1-cp38-cp38-win_amd64.whl size=33634 sha256=93d09553cd29f984f096054a7786bd1906c3dcc0eddb901e5c405f794e7e5876\n",
      "  Stored in directory: c:\\users\\gopal\\appdata\\local\\pip\\cache\\wheels\\5f\\fd\\9e\\b6cf5890494cb8ef0b5eaff72e5d55a70fb56316007d6dfe73\n",
      "Successfully built wrapt\n",
      "Installing collected packages: Cython, contextlib2, object-detection, six, wrapt\n",
      "  Attempting uninstall: six\n",
      "    Found existing installation: six 1.16.0\n",
      "    Uninstalling six-1.16.0:\n",
      "      Successfully uninstalled six-1.16.0\n",
      "Successfully installed Cython-0.29.24 contextlib2-21.6.0 object-detection-0.0.3 six-1.15.0 wrapt-1.12.1\n"
     ]
    },
    {
     "name": "stderr",
     "output_type": "stream",
     "text": [
      "WARNING: You are using pip version 20.1.1; however, version 21.3.1 is available.\n",
      "You should consider upgrading via the 'e:\\python\\machine-learning\\object-detection-python\\odp\\scripts\\python.exe -m pip install --upgrade pip' command.\n"
     ]
    }
   ],
   "source": [
    "!pip install object-detection"
   ]
  },
  {
   "cell_type": "code",
   "execution_count": 15,
   "metadata": {},
   "outputs": [],
   "source": [
    "import object_detection\n"
   ]
  },
  {
   "cell_type": "code",
   "execution_count": null,
   "metadata": {},
   "outputs": [],
   "source": []
  },
  {
   "cell_type": "code",
   "execution_count": null,
   "metadata": {},
   "outputs": [],
   "source": []
  }
 ],
 "metadata": {
  "kernelspec": {
   "display_name": "odp",
   "language": "python",
   "name": "odp"
  },
  "language_info": {
   "codemirror_mode": {
    "name": "ipython",
    "version": 3
   },
   "file_extension": ".py",
   "mimetype": "text/x-python",
   "name": "python",
   "nbconvert_exporter": "python",
   "pygments_lexer": "ipython3",
   "version": "3.8.1"
  }
 },
 "nbformat": 4,
 "nbformat_minor": 4
}
